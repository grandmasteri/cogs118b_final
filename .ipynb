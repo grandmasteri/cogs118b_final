{
 "cells": [
  {
   "cell_type": "code",
   "execution_count": 2,
   "metadata": {},
   "outputs": [],
   "source": [
    "from PIL import Image\n",
    "from tqdm import tqdm\n",
    "import numpy as np\n",
    "from scipy import signal\n",
    "import scipy.io as sio\n",
    "import matplotlib\n",
    "import matplotlib.pyplot as plt\n",
    "import imageio\n",
    "from numpy.matlib import repmat\n",
    "from sklearn.preprocessing import normalize\n",
    "import pandas as pd\n",
    "import numpy as np\n",
    "import matplotlib.pyplot as plt\n",
    "import matplotlib.image as mpimg\n",
    "import cv2\n",
    "import seaborn as sns\n",
    "import glob\n",
    "import os\n",
    "from skimage import transform\n",
    "from skimage.color import rgb2gray, gray2rgb\n",
    "from sklearn.metrics import accuracy_score\n",
    "from sklearn.model_selection import train_test_split\n",
    "from PIL import Image\n",
    "%matplotlib inline"
   ]
  },
  {
   "cell_type": "code",
   "execution_count": 3,
   "metadata": {},
   "outputs": [],
   "source": [
    "#Taken inspiration from Romachub. “Traffic Signs Recognition Test.” Kaggle, Kaggle, 6 Apr. 2020, www.kaggle.com/romachub/traffic-signs-recognition-test. \n",
    "def load_data(data_directory):\n",
    "    file_names = [os.path.join(data_directory, f)\n",
    "                      for f in os.listdir(data_directory)\n",
    "                      if f.endswith(\".png\")]\n",
    "    \n",
    "    labels = []\n",
    "    images = []\n",
    "    \n",
    "    for f in file_names:\n",
    "            images.append(imageio.imread(f))\n",
    "            labels.append(int(str(f[7:10])))\n",
    "    return images, labels"
   ]
  },
  {
   "cell_type": "code",
   "execution_count": 4,
   "metadata": {},
   "outputs": [],
   "source": [
    "# From CodePasta\n",
    "def sobelDetect(channel):\n",
    "    sobelX = cv2.Sobel(channel, cv2.CV_16S, 1, 0)\n",
    "    sobelY = cv2.Sobel(channel, cv2.CV_16S, 0, 1)\n",
    "    sobel = np.hypot(sobelX, sobelY)\n",
    "\n",
    "    sobel[sobel > 255] = 255; # Some values seem to go above 255. However RGB channels has to be within 0-255\n",
    "    return sobel"
   ]
  },
  {
   "cell_type": "code",
   "execution_count": 31,
   "metadata": {},
   "outputs": [],
   "source": [
    "#Taken inspiration from ayushmankumar7Check out this Author's contributed articles., et al. “Perspective Transformation - Python OpenCV.” GeeksforGeeks, 9 July 2020, www.geeksforgeeks.org/perspective-transformation-python-opencv/. \n",
    "def useCVOnImages(images, image_size):\n",
    "# model 2 (PCA + CV)\n",
    "    imagesT = list()\n",
    "    for img in tqdm(images):\n",
    "        edgeImg = np.max( np.array([ sobelDetect(img[:,:, 0]), sobelDetect(img[:,:, 1]), sobelDetect(img[:,:, 2]) ]), axis=0 )\n",
    "        # Coordinates that you want to Perspective Transform\n",
    "        pts1 = np.float32([[0,0],[edgeImg.shape[1],0],[0,edgeImg.shape[0]],[edgeImg.shape[1],edgeImg.shape[0]]])\n",
    "        # Size of the Transformed Image\n",
    "        pts2 = np.float32([[0,0],[image_size,0],[0,image_size],[image_size,image_size]])\n",
    "        M = cv2.getPerspectiveTransform(pts1,pts2)\n",
    "        dst = cv2.warpPerspective(edgeImg,M,(image_size,image_size))\n",
    "        rst = transform.resize(dst, (image_size, image_size))\n",
    "        imagesT.append(rst)\n",
    "    return imagesT"
   ]
  },
  {
   "cell_type": "code",
   "execution_count": 7,
   "metadata": {},
   "outputs": [],
   "source": [
    "def train_model(images, labels, image_side_length):\n",
    "    \n",
    "    # partition images into categories\n",
    "    imagesByCat = list()\n",
    "    for i in range(len(np.unique(labels))):\n",
    "        if pd.Series(labels).value_counts()[i] >= 100:\n",
    "            image_list = list()\n",
    "            for j in range(len(labels)):\n",
    "                if labels[j] == i:\n",
    "                    image_list.append(images[j])\n",
    "            imagesByCat.append(np.array(image_list[0:100]).T)\n",
    "    imagesByCat = np.asarray(imagesByCat)\n",
    "                   \n",
    "    #train model i.e. calculate principal axes\n",
    "    allCatsEigvecs = np.zeros(imagesByCat.shape)\n",
    "    category_means = np.zeros((23, image_side_length ** 2, 1))\n",
    "    # find pca for category cat\n",
    "    for cat in tqdm(range(len(imagesByCat))):\n",
    "        num_images = imagesByCat[cat].shape[1]\n",
    "        #print(num_images)\n",
    "        data = imagesByCat[cat]\n",
    "        #print(f\"max for all images of cat {cat}\")\n",
    "        #print(data.shape)\n",
    "        #print(np.max(data, axis=1).shape)\n",
    "        #print(max(np.max(data, axis=1)))\n",
    "        cat_mean_sign = np.mean(data, axis=1)\n",
    "        #print(data[:,0])\n",
    "        cat_mean_sign = np.reshape(cat_mean_sign, (-1, 1))\n",
    "        #print(f\"cat_mean_sign: \\n {cat_mean_sign[cat_mean_sign > 30]}\")\n",
    "        category_means[cat] = cat_mean_sign\n",
    "        #if cat == 1:\n",
    "            #print(category_means[cat])\n",
    "        mean_data = np.matlib.repmat(cat_mean_sign, 1, num_images)\n",
    "        #print(mean_data.shape)\n",
    "        Z = data - mean_data\n",
    "        fake_cov = np.dot(Z.T, Z) / Z.shape[1]\n",
    "        #print(fake_cov.shape)\n",
    "        eigvals, V_fake = np.linalg.eig(fake_cov)\n",
    "        V_real = np.dot(Z, V_fake)\n",
    "        #print(f\"V_real: \\n{V_real}\")\n",
    "        #print(f\"V_fake: \\n{V_fake}\")\n",
    "        idx = eigvals.argsort()[::-1]   \n",
    "        V_real_sorted = V_real[:,idx]\n",
    "        #if len(V_real_sorted[:,0][V_real_sorted[:,0] > 2]) > 0:\n",
    "            #print(V_real_sorted[:,0][V_real_sorted[:,0] > 2])\n",
    "        #print(V_real_sorted.shape)\n",
    "\n",
    "        allCatsEigvecs[cat] = V_real_sorted/np.linalg.norm(V_real_sorted)\n",
    "                   \n",
    "    return imagesByCat, category_means, allCatsEigvecs"
   ]
  },
  {
   "cell_type": "code",
   "execution_count": 8,
   "metadata": {},
   "outputs": [],
   "source": [
    "def isClassificationCorrect(numEigsUsed, datapointInd, correctClass, category_means): # returns whether or not the image was classified correctly\n",
    "    image = imagesByCat[correctClass, :, datapointInd].reshape(category_means[0].shape)\n",
    "    #print(\"image to classify:\");\n",
    "    #plt.imshow(image.reshape((100,100)))\n",
    "    #plt.pause(0.1) \n",
    "    #print(f\"image shape: {image.shape}\")\n",
    "    numCats = allCatsEigvecs.shape[0]\n",
    "    #print(f\"allCatsEigvecs.shape: {allCatsEigvecs.shape}\")\n",
    "    #print(f\"numCats: {numCats}\")\n",
    "    catScores = np.zeros(numCats) # catScores[3] = error for image with category 3 projection\n",
    "    for cat in range(numCats):\n",
    "        #print(f\"category_means[cat].shape: {category_means[cat].shape}\")\n",
    "        z_image = image - category_means[cat]\n",
    "        #print(\"zero-meaned image:\")\n",
    "        #plt.imshow(z_image.reshape((100,100)))\n",
    "        #plt.pause(0.1) \n",
    "        #project and then reconstruct image\n",
    "        projected_and_reduced = np.dot(allCatsEigvecs[cat, :, 0:numEigsUsed].T, z_image)\n",
    "        reconst = np.dot(allCatsEigvecs[cat, :, 0:numEigsUsed], projected_and_reduced) + category_means[cat]\n",
    "        #print(\"reconst image:\")\n",
    "        #plt.imshow(reconst.reshape((100,100)))\n",
    "        #plt.pause(0.1)\n",
    "        catScore = np.linalg.norm(image - reconst)\n",
    "        #print(f\"score for image on category {cat}: {catScore}\")\n",
    "        catScores[cat] = catScore\n",
    "    #print(f\"catScores: {catScores}\")    \n",
    "    predictedCat = np.argmin(catScores)\n",
    "    #ghprint(f\"argmin = {predictedCat}. Is this Correct? {predictedCat == correctClass}\")\n",
    "    return predictedCat == correctClass"
   ]
  },
  {
   "cell_type": "code",
   "execution_count": 9,
   "metadata": {},
   "outputs": [],
   "source": [
    "def test_model(imagesByCat, allCatsEigvecs, category_means):\n",
    "    num_categories = imagesByCat.shape[0]\n",
    "    total_num_eigs = allCatsEigvecs.shape[2] # allCatsEigvecs\n",
    "    num_datapoints = imagesByCat.shape[2]\n",
    "    results = np.zeros((num_categories, total_num_eigs, num_datapoints))\n",
    "    # num_categories = 23, num_eigs = 100, num_datapoints = 100\n",
    "    for catInd in tqdm(np.arange(num_categories)):\n",
    "        #print(f\"checking category: {catInd}\")\n",
    "        for numEigsUsed in np.arange(total_num_eigs):\n",
    "            #print(f\"\\tUsing {numEigsUsed} eigenvectors...\")\n",
    "            for datapointInd in (range(num_datapoints)):\n",
    "                #print(f\"\\t\\tClassifying image {datapointInd}...\")\n",
    "                results[catInd, numEigsUsed, datapointInd] = isClassificationCorrect(numEigsUsed, datapointInd, catInd, category_means) # images instead of master?\n",
    "                \n",
    "    return results"
   ]
  },
  {
   "cell_type": "code",
   "execution_count": 13,
   "metadata": {},
   "outputs": [
    {
     "name": "stderr",
     "output_type": "stream",
     "text": [
      "/home/rraina/anaconda3/envs/emp/lib/python3.6/site-packages/ipykernel_launcher.py:6: FutureWarning: The behavior of rgb2gray will change in scikit-image 0.19. Currently, rgb2gray allows 2D grayscale image to be passed as inputs and leaves them unmodified as outputs. Starting from version 0.19, 2D arrays will be treated as 1D images with 3 channels.\n",
      "  \n",
      "  0%|          | 0/23 [00:00<?, ?it/s]/home/rraina/anaconda3/envs/emp/lib/python3.6/site-packages/ipykernel_launcher.py:48: ComplexWarning: Casting complex values to real discards the imaginary part\n",
      "100%|██████████| 23/23 [00:00<00:00, 80.82it/s]\n",
      "100%|██████████| 23/23 [00:00<00:00, 68.20it/s]\n",
      "100%|██████████| 23/23 [28:32<00:00, 74.46s/it]\n",
      "100%|██████████| 23/23 [28:27<00:00, 74.24s/it]\n"
     ]
    }
   ],
   "source": [
    "images, labels = load_data(\"images/\")\n",
    "image_side_length =30\n",
    "\n",
    "# reshape cv'ed images\n",
    "imagesT = useCVOnImages(images, image_side_length)\n",
    "imagesT = [rgb2gray(image).flatten() for image in imagesT]\n",
    "\n",
    "# reshape regualr images\n",
    "images = [transform.resize(image, (image_side_length, image_side_length)) for image in images]\n",
    "images = [rgb2gray(image).flatten() for image in images]\n",
    "\n",
    "# train model\n",
    "CV_imagesByCat, CV_category_means, CV_allCatsEigvecs = train_model(imagesT, labels, image_side_length)\n",
    "imagesByCat, category_means, allCatsEigvecs = train_model(images, labels, image_side_length)\n",
    "\n",
    "# test only PCA model\n",
    "model1_data = test_model(imagesByCat, allCatsEigvecs, category_means)\n",
    "model2_data = test_model(CV_imagesByCat, CV_allCatsEigvecs, CV_category_means)"
   ]
  },
  {
   "cell_type": "code",
   "execution_count": 59,
   "metadata": {},
   "outputs": [
    {
     "name": "stdout",
     "output_type": "stream",
     "text": [
      "(100,)\n",
      "[ 748. 1164. 1263. 1288. 1314. 1325. 1330. 1329. 1337. 1343. 1345. 1345.\n",
      " 1345. 1345. 1345. 1346. 1346. 1346. 1347. 1351. 1351. 1351. 1352. 1352.\n",
      " 1352. 1352. 1352. 1352. 1352. 1352. 1352. 1352. 1352. 1352. 1352. 1352.\n",
      " 1352. 1352. 1352. 1352. 1352. 1352. 1352. 1352. 1352. 1352. 1352. 1352.\n",
      " 1352. 1352. 1352. 1352. 1352. 1352. 1352. 1352. 1352. 1352. 1352. 1352.\n",
      " 1352. 1352. 1352. 1352. 1352. 1352. 1352. 1352. 1352. 1352. 1352. 1352.\n",
      " 1352. 1352. 1352. 1352. 1352. 1352. 1352. 1352. 1352. 1352. 1352. 1352.\n",
      " 1352. 1352. 1352. 1352. 1352. 1352. 1352. 1352. 1352. 1352. 1352. 1352.\n",
      " 1352. 1352. 1352. 1352.]\n"
     ]
    },
    {
     "data": {
      "text/plain": [
       "Text(0, 0.5, 'Accuracy (% correct classifications)')"
      ]
     },
     "execution_count": 59,
     "metadata": {},
     "output_type": "execute_result"
    },
    {
     "data": {
      "image/png": "[encoded data removed]",
      "text/plain": [
       "<Figure size 432x288 with 1 Axes>"
      ]
     },
     "metadata": {
      "needs_background": "light"
     },
     "output_type": "display_data"
    }
   ],
   "source": [
    "m1CorrectforEigsUsed = np.sum(model1_data, axis=(0,2))\n",
    "m2CorrectforEigsUsed = np.sum(model2_data, axis=(0,2))\n",
    "m1Accuracies = m1CorrectforEigsUsed / (model1_data.shape[0]*model1_data.shape[2])\n",
    "m2Accuracies = m2CorrectforEigsUsed / (model2_data.shape[0]*model2_data.shape[2])\n",
    "print(m1CorrectforEigsUsed.shape) # should be 100,1 or 100,\n",
    "print(m1CorrectforEigsUsed)\n",
    "plt.plot(np.arange(len(m1Accuracies)), m1Accuracies*100)\n",
    "plt.plot(np.arange(len(m2Accuracies)), m2Accuracies*100)\n",
    "plt.legend(['PCA only model', 'PCA + CV model'], bbox_to_anchor=(1.05, 1), loc='upper left')\n",
    "plt.xlabel('Eigenvectors used')\n",
    "plt.ylabel('Accuracy (% correct classifications)')"
   ]
  },
  {
   "cell_type": "code",
   "execution_count": 60,
   "metadata": {},
   "outputs": [
    {
     "data": {
      "text/plain": [
       "Text(0, 0.5, '% Accuracy / Training Time (sec)')"
      ]
     },
     "execution_count": 60,
     "metadata": {},
     "output_type": "execute_result"
    },
    {
     "data": {
      "image/png": "[encoded data removed]",
      "text/plain": [
       "<Figure size 432x288 with 1 Axes>"
      ]
     },
     "metadata": {
      "needs_background": "light"
     },
     "output_type": "display_data"
    }
   ],
   "source": [
    "#0.2845 seconds of training time for model 1\n",
    "#0.3372 seconds of eigenvec calc for model 2 + 13.82 seconds of cv processing time = 14.1572 secs\n",
    "m1CorrectforEigsUsed = np.sum(model1_data, axis=(0,2))\n",
    "m2CorrectforEigsUsed = np.sum(model2_data, axis=(0,2))\n",
    "m1Accuracies = m1CorrectforEigsUsed / (model1_data.shape[0]*model1_data.shape[2])\n",
    "m2Accuracies = m2CorrectforEigsUsed / (model2_data.shape[0]*model2_data.shape[2])\n",
    "m1TrainingTime = 0.2845\n",
    "m2TrainingTime = 14.1572\n",
    "m1AccuracyPerTrainingTime = m1Accuracies/m1TrainingTime\n",
    "m2AccuracyPerTrainingTime = m2Accuracies/m2TrainingTime\n",
    "plt.plot(np.arange(len(m1AccuracyPerTrainingTime)), m1AccuracyPerTrainingTime)\n",
    "plt.plot(np.arange(len(m2AccuracyPerTrainingTime)), m2AccuracyPerTrainingTime)\n",
    "plt.legend(['PCA only model', 'PCA + CV model'], bbox_to_anchor=(1.05, 1), loc='upper left')\n",
    "plt.xlabel('Eigenvectors used')\n",
    "plt.ylabel('% Accuracy / Training Time (sec)')"
   ]
  },
  {
   "cell_type": "code",
   "execution_count": 26,
   "metadata": {},
   "outputs": [
    {
     "data": {
      "text/plain": [
       "Text(0, 0.5, 'Net successful classification difference')"
      ]
     },
     "execution_count": 26,
     "metadata": {},
     "output_type": "execute_result"
    },
    {
     "data": {
      "image/png": "[encoded data removed]",
      "text/plain": [
       "<Figure size 432x288 with 1 Axes>"
      ]
     },
     "metadata": {
      "needs_background": "light"
     },
     "output_type": "display_data"
    }
   ],
   "source": [
    "model_difference_data = model1_data - model2_data\n",
    "difByCat = np.sum(model_difference_data, axis=(1,2))\n",
    "mostDifCat = np.argmax(difByCat)\n",
    "mostSimCat = np.argmin(difByCat)\n",
    "plt.bar([\"Category \" + str(mostDifCat), \"Category \" + str(mostSimCat)], [difByCat[mostDifCat], difByCat[mostSimCat]])\n",
    "plt.ylabel('Net successful classification difference')"
   ]
  },
  {
   "cell_type": "code",
   "execution_count": 52,
   "metadata": {},
   "outputs": [
    {
     "data": {
      "text/plain": [
       "Text(0, 0.5, 'Training Time (sec)')"
      ]
     },
     "execution_count": 52,
     "metadata": {},
     "output_type": "execute_result"
    },
    {
     "data": {
      "image/png": "[encoded data removed]",
      "text/plain": [
       "<Figure size 432x288 with 1 Axes>"
      ]
     },
     "metadata": {
      "needs_background": "light"
     },
     "output_type": "display_data"
    }
   ],
   "source": [
    "model_difference_data = model1_data - model2_data\n",
    "difByCat = np.sum(model_difference_data, axis=(1,2))\n",
    "mostDifCat = np.argmax(difByCat)\n",
    "mostSimCat = np.argmin(difByCat)\n",
    "m1TrainingTime = 0.2845\n",
    "m2TrainingTime = 14.1572\n",
    "y = plt.bar([\"PCA\", \"PCA+CV\"], [m1TrainingTime, m2TrainingTime])\n",
    "y[0].set_color('r')\n",
    "plt.ylabel('Training Time (sec)')"
   ]
  },
  {
   "cell_type": "markdown",
   "metadata": {},
   "source": [
    "### References"
   ]
  },
  {
   "cell_type": "markdown",
   "metadata": {},
   "source": [
    "1. Firoz, Munawwar. Background Removal with OpenCV (AKA Segmentation), www.codepasta.com/computer-vision/2016/11/06/background-segmentation-removal-with-opencv.html?fbclid=IwAR2TR4MUsXLTkV8g01U_LjJ55_kjm6fNHZQpBWDrtK8kfPBNvQn0HWEQaNw. \n",
    "\n",
    "2. Yemelyanov, Dmitry. “Chinese Traffic Signs.” Kaggle, 16 Apr. 2020, www.kaggle.com/dmitryyemelyanov/chinese-traffic-signs?select=images. \n",
    "\n",
    "3. COGS 118B HW4 Solutions\n",
    "\n",
    "4. Romachub. “Traffic Signs Recognition Test.” Kaggle, Kaggle, 6 Apr. 2020, www.kaggle.com/romachub/traffic-signs-recognition-test. \n",
    "\n",
    "5. ayushmankumar7Check out this Author's contributed articles., et al. “Perspective Transformation - Python OpenCV.” GeeksforGeeks, 9 July 2020, www.geeksforgeeks.org/perspective-transformation-python-opencv/. "
   ]
  },
  {
   "cell_type": "code",
   "execution_count": null,
   "metadata": {},
   "outputs": [],
   "source": []
  }
 ],
 "metadata": {
  "kernelspec": {
   "display_name": "emp",
   "language": "python",
   "name": "emp"
  },
  "language_info": {
   "codemirror_mode": {
    "name": "ipython",
    "version": 3
   },
   "file_extension": ".py",
   "mimetype": "text/x-python",
   "name": "python",
   "nbconvert_exporter": "python",
   "pygments_lexer": "ipython3",
   "version": "3.6.10"
  }
 },
 "nbformat": 4,
 "nbformat_minor": 2
}
